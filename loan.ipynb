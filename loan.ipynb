{
 "cells": [
  {
   "cell_type": "code",
   "execution_count": null,
   "id": "a33c20d3",
   "metadata": {},
   "outputs": [],
   "source": [
    "# A Model for Bank Loan Approval Analysis and Predictions\n",
    "# By: Sandra Ruiz Date: June 29, 2025\n",
    "\n",
    "import pandas as pd\n",
    "\n",
    "# Load first csv file application data\n",
    "application_df = pd.read_csv('RuizLoans/Data/application_data.csv')\n",
    "print(\"Application Data Preview (First 5 Rows):\")\n",
    "print(application_df.head(5))\n",
    "\n",
    "# Display row and column count\n",
    "rows, columns = application_df.shape\n",
    "print(f\"\\nThe dataset contains {rows} rows and {columns} columns.\")\n",
    "\n",
    "# Load the second CSV file previous application data\n",
    "previous_df = pd.read_csv('RuizLoans/Data/previous_application.csv')\n",
    "print(\"\\nPrevious Application Data Preview (First 5 Rows):\")\n",
    "print(previous_df.head(5))\n",
    "\n",
    "# Display row and column count for the second dataset\n",
    "rows, columns = previous_df.shape\n",
    "print(f\"\\nThe previous application dataset contains {rows} rows and {columns} columns.\")"
   ]
  }
 ],
 "metadata": {
  "kernelspec": {
   "display_name": "Python 3",
   "language": "python",
   "name": "python3"
  },
  "language_info": {
   "codemirror_mode": {
    "name": "ipython",
    "version": 3
   },
   "file_extension": ".py",
   "mimetype": "text/x-python",
   "name": "python",
   "nbconvert_exporter": "python",
   "pygments_lexer": "ipython3",
   "version": "3.11.9"
  }
 },
 "nbformat": 4,
 "nbformat_minor": 5
}
